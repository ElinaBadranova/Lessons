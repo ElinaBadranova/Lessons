{
 "cells": [
  {
   "cell_type": "code",
   "execution_count": 31,
   "metadata": {},
   "outputs": [
    {
     "name": "stdout",
     "output_type": "stream",
     "text": [
      " mu_a                 mu_b \n",
      "0.3408948405300664 0.13588107924843404\n",
      "0.29876674464386466 0.22345515246653685\n",
      "0.2835511597385858 0.2537376966819284\n",
      "0.275749542198734 0.26381871859126194\n",
      "0.2723566878015048 0.2675739937570518\n",
      "0.270953307809706 0.2690355484328583\n",
      "0.2703836115725791 0.2696145965702822\n",
      "0.2701540432328451 0.26984566863655\n",
      "0.2700618059272069 0.2699381477411506\n",
      "0.27002478974034533 0.26997520280948145\n"
     ]
    },
    {
     "data": {
      "image/png": "[encoded data removed]",
      "text/plain": [
       "<Figure size 432x288 with 1 Axes>"
      ]
     },
     "metadata": {
      "needs_background": "light"
     },
     "output_type": "display_data"
    }
   ],
   "source": [
    "from __future__ import division\n",
    "import numpy as np\n",
    "from scipy.stats import bernoulli, binom\n",
    "import matplotlib.pyplot as plt\n",
    "#np.random.seed(101) # set random seed for reproducibility\n",
    "mua_true=4 # we are trying to estimate this from the data\n",
    "mub_true=7 # we are trying to estimate this from the data\n",
    "fa=binom(mua_true,1) # distribution for group A\n",
    "fb=binom(mub_true,1) # distribution for group B\n",
    "fz=bernoulli(0.5) # each group equally likely \n",
    "M=10\n",
    "def sample(n=10):\n",
    "    'simulate picking from each group n times'\n",
    "    tmp=fz.rvs(n) # choose n of the coins, A or B\n",
    "    return tmp*(fb.rvs(n))+(1-tmp)*fa.rvs(n) # flip it n times\n",
    "\n",
    "xs =  np.array([7, 7, 1, 3, 2, 1, 5, 1, 4, 0, 2, 3, 3, 1, 2, 2, 3, 1, 4, 0, 8, 3, 5, 3, 0, 0, 7, 1, 1, 3, 1, 3, 2, 4, 1, 6, 2, 2, 4, 1, 3, 1, 1, 2, 7, 3, 3, 2, 2, 2])\n",
    "\n",
    "#a quick look at the density functions of each group and a histogram of the samples\n",
    "f,ax = plt.subplots()\n",
    "x = np.linspace(mua_true-2,mub_true+2,100)\n",
    "ax.plot(x,fa.pmf(x),label='group A')\n",
    "ax.plot(x,fb.pmf(x),label='group B')\n",
    "ax.hist(xs,bins=50, normed=1,label='Samples');\n",
    "ax.legend(loc=0);\n",
    "\n",
    "import sympy\n",
    "from sympy.abc import x, z\n",
    "from sympy import stats\n",
    "\n",
    "mu_a,mu_b = sympy.symbols('mu_a,mu_b')\n",
    "na=stats.Normal( 'x', mu_a,1)\n",
    "nb=stats.Normal( 'x', mu_b,1)\n",
    "\n",
    "L=(stats.density(na)(x)+stats.density(nb)(x))/2 # incomplete likelihood function \n",
    "\n",
    "def ez(x,mu_a,mu_b): # expected value of hidden variable\n",
    "  return norm(mu_a).pdf(x)/(norm(mu_a).pdf(x)+ norm(mu_b).pdf(x))\n",
    "\n",
    "\n",
    "\n",
    "out=[];lout=[] # containers for outputs\n",
    "\n",
    "Lf=sympy.lambdify((x,mu_a,mu_b), sympy.log(abs(L)),'numpy') # convert to numpy function from sympy\n",
    "\n",
    "mu_a_n=2 # initial point\n",
    "mu_b_n=1 # initial point\n",
    "niter=10 #\n",
    "print(' mu_a                 mu_b ')\n",
    "for i in range(niter):\n",
    "    tau=ez(xs,mu_a_n,mu_b_n) # expected value of z-variable\n",
    "    lout.append( sum(Lf(xs,mu_a_n,mu_b_n))) # track incomplete likelihood value (should be monotone)\n",
    "    out.append((mu_a_n,mu_b_n))          # keep track of (pa,pb) steps\n",
    "    mu_a_n=(sum(tau*xs)/(M*sum(tau)))    # new maximum  likelihood estimate of pa\n",
    "    mu_b_n=(sum((1-tau)*xs)/(M*sum(1-tau))) \n",
    "  \n",
    "    print(mu_a_n, mu_b_n)"
   ]
  },
  {
   "cell_type": "code",
   "execution_count": null,
   "metadata": {},
   "outputs": [],
   "source": []
  },
  {
   "cell_type": "code",
   "execution_count": null,
   "metadata": {},
   "outputs": [],
   "source": []
  }
 ],
 "metadata": {
  "kernelspec": {
   "display_name": "Python 3",
   "language": "python",
   "name": "python3"
  },
  "language_info": {
   "codemirror_mode": {
    "name": "ipython",
    "version": 3
   },
   "file_extension": ".py",
   "mimetype": "text/x-python",
   "name": "python",
   "nbconvert_exporter": "python",
   "pygments_lexer": "ipython3",
   "version": "3.7.1"
  }
 },
 "nbformat": 4,
 "nbformat_minor": 2
}
