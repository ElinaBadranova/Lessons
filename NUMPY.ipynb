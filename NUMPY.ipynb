{
 "cells": [
  {
   "cell_type": "code",
   "execution_count": 19,
   "metadata": {},
   "outputs": [
    {
     "name": "stdout",
     "output_type": "stream",
     "text": [
      "[[0.83153082 0.36569147 0.85447392]\n",
      " [0.18728898 0.91628647 0.49620486]\n",
      " [0.87854582 0.02383883 0.31881709]\n",
      " [0.77447308 0.53958924 0.61291328]\n",
      " [0.31099012 0.36995852 0.25629322]\n",
      " [0.692691   0.98324689 0.07835168]\n",
      " [0.3635816  0.04051075 0.08883141]\n",
      " [0.94550338 0.58554203 0.54634706]\n",
      " [0.90812489 0.51755916 0.38907944]\n",
      " [0.23587757 0.66813215 0.29144816]]\n"
     ]
    },
    {
     "data": {
      "text/plain": [
       "[0.3656914657654009,\n",
       " 0.49620485599498076,\n",
       " 0.31881708772410966,\n",
       " 0.5395892420915205,\n",
       " 0.36995851991199724,\n",
       " 0.6926909952250965,\n",
       " 0.3635815952528192,\n",
       " 0.5463470639447329,\n",
       " 0.5175591575217368,\n",
       " 0.6681321513745261]"
      ]
     },
     "execution_count": 19,
     "metadata": {},
     "output_type": "execute_result"
    }
   ],
   "source": [
    "#1\n",
    "import numpy as np\n",
    "Z = np.random.random((10,3))\n",
    "print(Z)\n",
    "[x[np.abs(x-0.5).argmin()] for x in Z]\n",
    "\n",
    "\n",
    "\n"
   ]
  },
  {
   "cell_type": "code",
   "execution_count": 23,
   "metadata": {},
   "outputs": [
    {
     "name": "stdout",
     "output_type": "stream",
     "text": [
      "[[0.54767641 0.16289292 0.64015358]\n",
      " [0.39130996 0.2429438  0.11693008]\n",
      " [0.02035656 0.67871314 0.04112995]]\n",
      "[66.35319056  4.61151918 17.99660848]\n"
     ]
    }
   ],
   "source": [
    "#2\n",
    "import numpy as np\n",
    "Z = np.random.random((3, 3))\n",
    "print(Z)\n",
    "print(Z.sum(axis = 1)/ Z.min(axis = 0))"
   ]
  },
  {
   "cell_type": "code",
   "execution_count": 36,
   "metadata": {},
   "outputs": [
    {
     "name": "stdout",
     "output_type": "stream",
     "text": [
      "5\n"
     ]
    }
   ],
   "source": [
    "#3\n",
    "import numpy as np\n",
    "x = np.array([6, 2, 0, 3, 0, 0, 5, 7, 0])\n",
    "zero = x==0\n",
    "print (x[1:][zero[:-1]].max())"
   ]
  },
  {
   "cell_type": "code",
   "execution_count": null,
   "metadata": {},
   "outputs": [],
   "source": []
  },
  {
   "cell_type": "code",
   "execution_count": null,
   "metadata": {},
   "outputs": [],
   "source": []
  },
  {
   "cell_type": "code",
   "execution_count": null,
   "metadata": {},
   "outputs": [],
   "source": []
  }
 ],
 "metadata": {
  "kernelspec": {
   "display_name": "Python 3",
   "language": "python",
   "name": "python3"
  },
  "language_info": {
   "codemirror_mode": {
    "name": "ipython",
    "version": 3
   },
   "file_extension": ".py",
   "mimetype": "text/x-python",
   "name": "python",
   "nbconvert_exporter": "python",
   "pygments_lexer": "ipython3",
   "version": "3.7.1"
  }
 },
 "nbformat": 4,
 "nbformat_minor": 2
}
